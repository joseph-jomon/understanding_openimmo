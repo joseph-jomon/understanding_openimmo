{
 "cells": [
  {
   "cell_type": "markdown",
   "metadata": {},
   "source": [
    "https://chatgpt.com/share/2a0baee4-dc8b-4042-a27a-fdbc1ca7a253"
   ]
  },
  {
   "cell_type": "code",
   "execution_count": 9,
   "metadata": {},
   "outputs": [
    {
     "name": "stdout",
     "output_type": "stream",
     "text": [
      "dict_keys(['anbieternr', 'firma', 'openimmo_anid', 'lizenzkennung', 'anhang', 'immobilie', 'impressum', 'impressum_strukt', 'user_defined_simplefield', 'user_defined_anyfield'])\n"
     ]
    }
   ],
   "source": [
    "import xml\n",
    "import xmltodict\n",
    "import pandas as pd\n",
    "#1. Extract Data from XML\n",
    "\n",
    "with open('./data_openimmo/openimmo-data_127.xml') as fd:\n",
    "    xml_data = xmltodict.parse(fd.read())\n",
    "\n",
    "# Now xml_data is a Python dictionary you can work with\n",
    "#print(\"Dictionary Keys are :\", xml_data['openimmo'].keys())\n",
    "\n",
    "############################\n",
    "#2. Transform XML Data to Pandas DataFrame\n",
    "df = pd.DataFrame(xml_data['openimmo'])  # Adjust 'root_element' to match your XML structure\n",
    "print(xml_data['openimmo']['anbieter'].keys())\n",
    "#for key, value in xml_data.items():\n",
    "  #  print(f\"{key}: {value}\")"
   ]
  },
  {
   "cell_type": "markdown",
   "metadata": {},
   "source": [
    "# openimmo is the root element"
   ]
  },
  {
   "cell_type": "code",
   "execution_count": 15,
   "metadata": {},
   "outputs": [
    {
     "name": "stdout",
     "output_type": "stream",
     "text": [
      "    openimmo_child_elements\n",
      "0              uebertragung\n",
      "1                  anbieter\n",
      "2  user_defined_simplefield\n",
      "3     user_defined_anyfield\n"
     ]
    }
   ],
   "source": [
    "df = pd.DataFrame(xml_data['openimmo'].keys(), columns=['openimmo_child_elements'])\n",
    "print(df)"
   ]
  },
  {
   "cell_type": "code",
   "execution_count": 18,
   "metadata": {},
   "outputs": [
    {
     "name": "stdout",
     "output_type": "stream",
     "text": [
      "  uebertragung_child_elements\n",
      "0                        @art\n",
      "1                     @umfang\n",
      "2                      @modus\n",
      "3                    @version\n",
      "4             @sendersoftware\n",
      "5              @senderversion\n",
      "6                @techn_email\n",
      "7                  @timestamp\n",
      "8                    @regi_id\n"
     ]
    }
   ],
   "source": [
    "df = pd.DataFrame(xml_data['openimmo']['uebertragung'].keys(), columns=['uebertragung_child_elements'])\n",
    "print(df)\n",
    "# @ symbol represents attributes of the element"
   ]
  },
  {
   "cell_type": "markdown",
   "metadata": {},
   "source": [
    "# Second child element and most important and heavily nested child element is anbieter"
   ]
  },
  {
   "cell_type": "code",
   "execution_count": 16,
   "metadata": {},
   "outputs": [
    {
     "name": "stdout",
     "output_type": "stream",
     "text": [
      "    Anbieter_child_elements\n",
      "0                anbieternr\n",
      "1                     firma\n",
      "2             openimmo_anid\n",
      "3             lizenzkennung\n",
      "4                    anhang\n",
      "5                 immobilie\n",
      "6                 impressum\n",
      "7          impressum_strukt\n",
      "8  user_defined_simplefield\n",
      "9     user_defined_anyfield\n"
     ]
    }
   ],
   "source": [
    "df = pd.DataFrame(xml_data['openimmo']['anbieter'].keys(), columns=['Anbieter_child_elements'])\n",
    "print(df)"
   ]
  },
  {
   "cell_type": "markdown",
   "metadata": {},
   "source": [
    "# Going to explore relevant child elements of anbieter element\n",
    "## list of all child elements of anbieter"
   ]
  },
  {
   "cell_type": "code",
   "execution_count": 22,
   "metadata": {},
   "outputs": [
    {
     "name": "stdout",
     "output_type": "stream",
     "text": [
      "    Anbieter_child_elements\n",
      "0                anbieternr\n",
      "1                     firma\n",
      "2             openimmo_anid\n",
      "3             lizenzkennung\n",
      "4                    anhang\n",
      "5                 immobilie\n",
      "6                 impressum\n",
      "7          impressum_strukt\n",
      "8  user_defined_simplefield\n",
      "9     user_defined_anyfield\n"
     ]
    }
   ],
   "source": [
    "df = pd.DataFrame(xml_data['openimmo']['anbieter'].keys(), columns=['Anbieter_child_elements'])\n",
    "print(df)"
   ]
  },
  {
   "cell_type": "markdown",
   "metadata": {},
   "source": [
    "## 5th child element of anbieter  = anhang"
   ]
  },
  {
   "cell_type": "code",
   "execution_count": 31,
   "metadata": {},
   "outputs": [
    {
     "name": "stdout",
     "output_type": "stream",
     "text": [
      "  Anbieter_child_element--anhang\n",
      "0                      @location\n",
      "1                        @gruppe\n",
      "2                    anhangtitel\n",
      "3                         format\n",
      "4                          daten\n"
     ]
    }
   ],
   "source": [
    "df = pd.DataFrame(xml_data['openimmo']['anbieter']['anhang'].keys(), columns=['Anbieter_child_element--anhang'])\n",
    "print(df)"
   ]
  },
  {
   "cell_type": "markdown",
   "metadata": {},
   "source": [
    "## sixth and important child element of anbieter = immobilie"
   ]
  },
  {
   "cell_type": "code",
   "execution_count": 32,
   "metadata": {},
   "outputs": [
    {
     "name": "stdout",
     "output_type": "stream",
     "text": [
      "   Anbieter_child_element--immobilie\n",
      "0                    objektkategorie\n",
      "1                                geo\n",
      "2                      kontaktperson\n",
      "3                    weitere_adresse\n",
      "4                             preise\n",
      "5                    bieterverfahren\n",
      "6                      versteigerung\n",
      "7                           flaechen\n",
      "8                        ausstattung\n",
      "9                    zustand_angaben\n",
      "10                         bewertung\n",
      "11                     infrastruktur\n",
      "12                         freitexte\n",
      "13                          anhaenge\n",
      "14                 verwaltung_objekt\n",
      "15                  verwaltung_techn\n",
      "16          user_defined_simplefield\n",
      "17             user_defined_anyfield\n",
      "18               user_defined_extend\n"
     ]
    }
   ],
   "source": [
    "df = pd.DataFrame(xml_data['openimmo']['anbieter']['immobilie'].keys(), columns=['Anbieter_child_element--immobilie'])\n",
    "print(df)"
   ]
  },
  {
   "cell_type": "markdown",
   "metadata": {},
   "source": [
    "## Going in to elements of immobilie"
   ]
  },
  {
   "cell_type": "code",
   "execution_count": 35,
   "metadata": {},
   "outputs": [
    {
     "name": "stdout",
     "output_type": "stream",
     "text": [
      "   Anbieter_child_element--immobilie\n",
      "0                    objektkategorie\n",
      "1                                geo\n",
      "2                      kontaktperson\n",
      "3                    weitere_adresse\n",
      "4                             preise\n",
      "5                    bieterverfahren\n",
      "6                      versteigerung\n",
      "7                           flaechen\n",
      "8                        ausstattung\n",
      "9                    zustand_angaben\n",
      "10                         bewertung\n",
      "11                     infrastruktur\n",
      "12                         freitexte\n",
      "13                          anhaenge\n",
      "14                 verwaltung_objekt\n",
      "15                  verwaltung_techn\n",
      "16          user_defined_simplefield\n",
      "17             user_defined_anyfield\n",
      "18               user_defined_extend\n"
     ]
    }
   ],
   "source": [
    "df = pd.DataFrame(xml_data['openimmo']['anbieter']['immobilie'].keys(), columns=['Anbieter_child_element--immobilie'])\n",
    "print(df)"
   ]
  },
  {
   "cell_type": "markdown",
   "metadata": {},
   "source": [
    "## child element of immobilie--objektkategorie"
   ]
  },
  {
   "cell_type": "code",
   "execution_count": 37,
   "metadata": {},
   "outputs": [
    {
     "name": "stdout",
     "output_type": "stream",
     "text": [
      "  immobilie_child_element--objektkategorie\n",
      "0                              nutzungsart\n",
      "1                          vermarktungsart\n",
      "2                                objektart\n",
      "3                 user_defined_simplefield\n",
      "4                    user_defined_anyfield\n"
     ]
    }
   ],
   "source": [
    "df = pd.DataFrame(xml_data['openimmo']['anbieter']['immobilie']['objektkategorie'].keys(), columns=['immobilie_child_element--objektkategorie'])\n",
    "print(df)"
   ]
  },
  {
   "cell_type": "markdown",
   "metadata": {},
   "source": [
    "## child element of immobilie--geo"
   ]
  },
  {
   "cell_type": "code",
   "execution_count": 38,
   "metadata": {},
   "outputs": [
    {
     "name": "stdout",
     "output_type": "stream",
     "text": [
      "   immobilie_child_element--geo\n",
      "0                           plz\n",
      "1                           ort\n",
      "2                geokoordinaten\n",
      "3                       strasse\n",
      "4                    hausnummer\n",
      "5                    bundesland\n",
      "6                          land\n",
      "7                  gemeindecode\n",
      "8                          flur\n",
      "9                    flurstueck\n",
      "10                    gemarkung\n",
      "11                        etage\n",
      "12                anzahl_etagen\n",
      "13                  lage_im_bau\n",
      "14                   wohnungsnr\n",
      "15                  lage_gebiet\n",
      "16            regionaler_zusatz\n",
      "17                 karten_makro\n",
      "18                 karten_mikro\n",
      "19                virtuelletour\n",
      "20                  luftbildern\n",
      "21     user_defined_simplefield\n",
      "22        user_defined_anyfield\n",
      "23          user_defined_extend\n"
     ]
    }
   ],
   "source": [
    "df = pd.DataFrame(xml_data['openimmo']['anbieter']['immobilie']['geo'].keys(), columns=['immobilie_child_element--geo'])\n",
    "print(df)"
   ]
  },
  {
   "cell_type": "markdown",
   "metadata": {},
   "source": [
    "## child element of immobilie-->preise"
   ]
  },
  {
   "cell_type": "code",
   "execution_count": 42,
   "metadata": {},
   "outputs": [
    {
     "name": "stdout",
     "output_type": "stream",
     "text": [
      "   immobilie_child_element--preise\n",
      "0                        kaufpreis\n",
      "1                   kaufpreisnetto\n",
      "2                  kaufpreisbrutto\n",
      "3                   nettokaltmiete\n",
      "4                        kaltmiete\n",
      "5                        warmmiete\n",
      "6                      nebenkosten\n",
      "7             heizkosten_enthalten\n",
      "8                       heizkosten\n",
      "9               zzg_mehrwertsteuer\n",
      "10                  mietzuschlaege\n",
      "11              hauptmietzinsnetto\n",
      "12                   pauschalmiete\n",
      "13             betriebskostennetto\n",
      "14                           pacht\n",
      "15                        erbpacht\n",
      "16                        hausgeld\n",
      "17                         abstand\n",
      "18              preis_zeitraum_von\n",
      "19              preis_zeitraum_bis\n",
      "20               preis_zeiteinheit\n",
      "21                mietpreis_pro_qm\n",
      "22                kaufpreis_pro_qm\n",
      "23             provisionspflichtig\n",
      "24                provision_teilen\n",
      "25                  innen_courtage\n",
      "26                 aussen_courtage\n",
      "27                courtage_hinweis\n",
      "28                  provisionnetto\n",
      "29                 provisionbrutto\n",
      "30                        waehrung\n",
      "31                       mwst_satz\n",
      "32                     mwst_gesamt\n",
      "33                  freitext_preis\n",
      "34                         x_fache\n",
      "35                    nettorendite\n",
      "36               nettorendite_soll\n",
      "37                nettorendite_ist\n",
      "38               mieteinnahmen_ist\n",
      "39              mieteinnahmen_soll\n",
      "40            erschliessungskosten\n",
      "41                         kaution\n",
      "42                    kaution_text\n",
      "43              geschaeftsguthaben\n",
      "44                     stp_carport\n",
      "45                      stp_duplex\n",
      "46                   stp_freiplatz\n",
      "47                      stp_garage\n",
      "48                    stp_parkhaus\n",
      "49                  stp_tiefgarage\n",
      "50                    stp_sonstige\n",
      "51        user_defined_simplefield\n",
      "52           user_defined_anyfield\n",
      "53             user_defined_extend\n"
     ]
    }
   ],
   "source": [
    "df = pd.DataFrame(xml_data['openimmo']['anbieter']['immobilie']['preise'].keys(), columns=['immobilie_child_element--preise'])\n",
    "print(df)"
   ]
  },
  {
   "cell_type": "markdown",
   "metadata": {},
   "source": [
    "## child element of immobilie-->bieterverfahren"
   ]
  },
  {
   "cell_type": "code",
   "execution_count": 43,
   "metadata": {},
   "outputs": [
    {
     "name": "stdout",
     "output_type": "stream",
     "text": [
      "  immobilie_child_element--bieterverfahren\n",
      "0                     beginn_angebotsphase\n",
      "1                      besichtigungstermin\n",
      "2                      hoechstgebot_zeigen\n",
      "3                             mindestpreis\n",
      "4                 user_defined_simplefield\n",
      "5                    user_defined_anyfield\n",
      "6                      user_defined_extend\n"
     ]
    }
   ],
   "source": [
    "df = pd.DataFrame(xml_data['openimmo']['anbieter']['immobilie']['bieterverfahren'].keys(), columns=['immobilie_child_element--bieterverfahren'])\n",
    "print(df)"
   ]
  },
  {
   "cell_type": "markdown",
   "metadata": {},
   "source": [
    "## child element of immobilie-->versteigerung"
   ]
  },
  {
   "cell_type": "code",
   "execution_count": 44,
   "metadata": {},
   "outputs": [
    {
     "name": "stdout",
     "output_type": "stream",
     "text": [
      "  immobilie_child_element--versteigerung\n",
      "0                    zwangsversteigerung\n",
      "1                           aktenzeichen\n",
      "2                               zvtermin\n",
      "3                           zusatztermin\n",
      "4                            amtsgericht\n",
      "5                           verkehrswert\n"
     ]
    }
   ],
   "source": [
    "df = pd.DataFrame(xml_data['openimmo']['anbieter']['immobilie']['versteigerung'].keys(), columns=['immobilie_child_element--versteigerung'])\n",
    "print(df)"
   ]
  },
  {
   "cell_type": "markdown",
   "metadata": {},
   "source": [
    "## child element of immobilie-->flaechen"
   ]
  },
  {
   "cell_type": "code",
   "execution_count": 45,
   "metadata": {},
   "outputs": [
    {
     "name": "stdout",
     "output_type": "stream",
     "text": [
      "   immobilie_child_element--flaechen\n",
      "0                        wohnflaeche\n",
      "1                        nutzflaeche\n",
      "2                      gesamtflaeche\n",
      "3                       ladenflaeche\n",
      "4                       lagerflaeche\n",
      "5                    verkaufsflaeche\n",
      "6                        freiflaeche\n",
      "7                       bueroflaeche\n",
      "8                   bueroteilflaeche\n",
      "9                       fensterfront\n",
      "10                verwaltungsflaeche\n",
      "11                     gastroflaeche\n",
      "12                               grz\n",
      "13                               gfz\n",
      "14                               bmz\n",
      "15                               bgf\n",
      "16               grundstuecksflaeche\n",
      "17                      sonstflaeche\n",
      "18                     anzahl_zimmer\n",
      "19               anzahl_schlafzimmer\n",
      "20                 anzahl_badezimmer\n",
      "21                     anzahl_sep_wc\n",
      "22                    anzahl_balkone\n",
      "23                  anzahl_terrassen\n",
      "24                      anzahl_logia\n",
      "25           balkon_terrasse_flaeche\n",
      "26          anzahl_wohn_schlafzimmer\n",
      "27                     gartenflaeche\n",
      "28                     kellerflaeche\n",
      "29                   fensterfront_qm\n",
      "30                 grundstuecksfront\n",
      "31                  dachbodenflaeche\n",
      "32                        teilbar_ab\n",
      "33                beheizbare_flaeche\n",
      "34               anzahl_stellplaetze\n",
      "35                  plaetze_gastraum\n",
      "36                     anzahl_betten\n",
      "37              anzahl_tagungsraeume\n",
      "38               vermietbare_flaeche\n",
      "39              anzahl_wohneinheiten\n",
      "40           anzahl_gewerbeeinheiten\n",
      "41                  einliegerwohnung\n",
      "42                           kubatur\n",
      "43                ausnuetzungsziffer\n",
      "44                        flaechevon\n",
      "45                        flaechebis\n",
      "46          user_defined_simplefield\n",
      "47             user_defined_anyfield\n",
      "48               user_defined_extend\n"
     ]
    }
   ],
   "source": [
    "df = pd.DataFrame(xml_data['openimmo']['anbieter']['immobilie']['flaechen'].keys(), columns=['immobilie_child_element--flaechen'])\n",
    "print(df)"
   ]
  },
  {
   "cell_type": "markdown",
   "metadata": {},
   "source": [
    "## child element of immobilie-->ausstattung"
   ]
  },
  {
   "cell_type": "code",
   "execution_count": 46,
   "metadata": {},
   "outputs": [
    {
     "name": "stdout",
     "output_type": "stream",
     "text": [
      "   immobilie_child_element--ausstattung\n",
      "0                    ausstatt_kategorie\n",
      "1                           wg_geeignet\n",
      "2                   raeume_veraenderbar\n",
      "3                                   bad\n",
      "4                                kueche\n",
      "5                                 boden\n",
      "6                                 kamin\n",
      "7                           heizungsart\n",
      "8                            befeuerung\n",
      "9                          klimatisiert\n",
      "10                            fahrstuhl\n",
      "11                        stellplatzart\n",
      "12                        gartennutzung\n",
      "13             ausricht_balkon_terrasse\n",
      "14                            moebliert\n",
      "15                     rollstuhlgerecht\n",
      "16                         kabel_sat_tv\n",
      "17                         barrierefrei\n",
      "18                                sauna\n",
      "19                         swimmingpool\n",
      "20                    wasch_trockenraum\n",
      "21                         wintergarten\n",
      "22                       dv_verkabelung\n",
      "23                                rampe\n",
      "24                           hebebuehne\n",
      "25                                 kran\n",
      "26                         gastterrasse\n",
      "27                   stromanschlusswert\n",
      "28                    kantine_cafeteria\n",
      "29                            teekueche\n",
      "30                          hallenhoehe\n",
      "31                 angeschl_gastronomie\n",
      "32                      brauereibindung\n",
      "33                   sporteinrichtungen\n",
      "34                      wellnessbereich\n",
      "35                    serviceleistungen\n",
      "36              telefon_ferienimmobilie\n",
      "37                   sicherheitstechnik\n",
      "38                         unterkellert\n",
      "39                          abstellraum\n",
      "40                          fahrradraum\n",
      "41                             rolladen\n",
      "42                             dachform\n",
      "43                             bauweise\n",
      "44                          ausbaustufe\n",
      "45                           energietyp\n",
      "46                           bibliothek\n",
      "47                            dachboden\n",
      "48                             gaestewc\n",
      "49                         kabelkanaele\n",
      "50                      seniorengerecht\n",
      "51             user_defined_simplefield\n",
      "52                user_defined_anyfield\n",
      "53                  user_defined_extend\n"
     ]
    }
   ],
   "source": [
    "df = pd.DataFrame(xml_data['openimmo']['anbieter']['immobilie']['ausstattung'].keys(), columns=['immobilie_child_element--ausstattung'])\n",
    "print(df)"
   ]
  },
  {
   "cell_type": "markdown",
   "metadata": {},
   "source": [
    "## child element of immobilie-->zustand_angaben"
   ]
  },
  {
   "cell_type": "code",
   "execution_count": 47,
   "metadata": {},
   "outputs": [
    {
     "name": "stdout",
     "output_type": "stream",
     "text": [
      "   immobilie_child_element--zustand_angaben\n",
      "0                                   baujahr\n",
      "1                      letztemodernisierung\n",
      "2                                   zustand\n",
      "3                                     alter\n",
      "4                             bebaubar_nach\n",
      "5                             erschliessung\n",
      "6                      erschliessung_umfang\n",
      "7                                   bauzone\n",
      "8                                 altlasten\n",
      "9                               energiepass\n",
      "10                            verkaufstatus\n",
      "11                 user_defined_simplefield\n",
      "12                    user_defined_anyfield\n",
      "13                      user_defined_extend\n"
     ]
    }
   ],
   "source": [
    "df = pd.DataFrame(xml_data['openimmo']['anbieter']['immobilie']['zustand_angaben'].keys(), columns=['immobilie_child_element--zustand_angaben'])\n",
    "print(df)"
   ]
  },
  {
   "cell_type": "markdown",
   "metadata": {},
   "source": [
    "## child element of immobilie-->bewertung"
   ]
  },
  {
   "cell_type": "code",
   "execution_count": 48,
   "metadata": {},
   "outputs": [
    {
     "name": "stdout",
     "output_type": "stream",
     "text": [
      "  immobilie_child_element--bewertung\n",
      "0                               feld\n"
     ]
    }
   ],
   "source": [
    "df = pd.DataFrame(xml_data['openimmo']['anbieter']['immobilie']['bewertung'].keys(), columns=['immobilie_child_element--bewertung'])\n",
    "print(df)"
   ]
  },
  {
   "cell_type": "markdown",
   "metadata": {},
   "source": [
    "## child element of immobilie-->infrastruktur"
   ]
  },
  {
   "cell_type": "code",
   "execution_count": 49,
   "metadata": {},
   "outputs": [
    {
     "name": "stdout",
     "output_type": "stream",
     "text": [
      "  immobilie_child_element--infrastruktur\n",
      "0                            zulieferung\n",
      "1                               ausblick\n",
      "2                              distanzen\n",
      "3                        distanzen_sport\n",
      "4               user_defined_simplefield\n",
      "5                  user_defined_anyfield\n",
      "6                    user_defined_extend\n"
     ]
    }
   ],
   "source": [
    "df = pd.DataFrame(xml_data['openimmo']['anbieter']['immobilie']['infrastruktur'].keys(), columns=['immobilie_child_element--infrastruktur'])\n",
    "print(df)"
   ]
  },
  {
   "cell_type": "markdown",
   "metadata": {},
   "source": [
    "## child element of immobilie-->freitexte"
   ]
  },
  {
   "cell_type": "code",
   "execution_count": 50,
   "metadata": {},
   "outputs": [
    {
     "name": "stdout",
     "output_type": "stream",
     "text": [
      "  immobilie_child_element--freitexte\n",
      "0                        objekttitel\n",
      "1                         dreizeiler\n",
      "2                               lage\n",
      "3                    ausstatt_beschr\n",
      "4                 objektbeschreibung\n",
      "5                   sonstige_angaben\n",
      "6                        objekt_text\n"
     ]
    }
   ],
   "source": [
    "df = pd.DataFrame(xml_data['openimmo']['anbieter']['immobilie']['freitexte'].keys(), columns=['immobilie_child_element--freitexte'])\n",
    "print(df)"
   ]
  },
  {
   "cell_type": "markdown",
   "metadata": {},
   "source": [
    "## child element of immobilie-->anhaenge"
   ]
  },
  {
   "cell_type": "code",
   "execution_count": 51,
   "metadata": {},
   "outputs": [
    {
     "name": "stdout",
     "output_type": "stream",
     "text": [
      "  immobilie_child_element--anhaenge\n",
      "0                            anhang\n",
      "1          user_defined_simplefield\n",
      "2             user_defined_anyfield\n"
     ]
    }
   ],
   "source": [
    "df = pd.DataFrame(xml_data['openimmo']['anbieter']['immobilie']['anhaenge'].keys(), columns=['immobilie_child_element--anhaenge'])\n",
    "print(df)"
   ]
  },
  {
   "cell_type": "markdown",
   "metadata": {},
   "source": [
    "## child element of immobilie-->verwaltung_objekt"
   ]
  },
  {
   "cell_type": "code",
   "execution_count": 52,
   "metadata": {},
   "outputs": [
    {
     "name": "stdout",
     "output_type": "stream",
     "text": [
      "   immobilie_child_element--verwaltung_objekt\n",
      "0                     objektadresse_freigeben\n",
      "1                               verfuegbar_ab\n",
      "2                                     abdatum\n",
      "3                                    bisdatum\n",
      "4                               min_mietdauer\n",
      "5                               max_mietdauer\n",
      "6                        versteigerungstermin\n",
      "7                           wbs_sozialwohnung\n",
      "8                                   vermietet\n",
      "9                               gruppennummer\n",
      "10                                     zugang\n",
      "11                                   laufzeit\n",
      "12                               max_personen\n",
      "13                               nichtraucher\n",
      "14                                  haustiere\n",
      "15                                 geschlecht\n",
      "16                          denkmalgeschuetzt\n",
      "17                                 als_ferien\n",
      "18                        gewerbliche_nutzung\n",
      "19                                   branchen\n",
      "20                                   hochhaus\n",
      "21                   user_defined_simplefield\n",
      "22                      user_defined_anyfield\n"
     ]
    }
   ],
   "source": [
    "df = pd.DataFrame(xml_data['openimmo']['anbieter']['immobilie']['verwaltung_objekt'].keys(), columns=['immobilie_child_element--verwaltung_objekt'])\n",
    "print(df)"
   ]
  },
  {
   "cell_type": "markdown",
   "metadata": {},
   "source": [
    "## child element of immobilie-->verwaltung_techn"
   ]
  },
  {
   "cell_type": "code",
   "execution_count": 53,
   "metadata": {},
   "outputs": [
    {
     "name": "stdout",
     "output_type": "stream",
     "text": [
      "   immobilie_child_element--verwaltung_techn\n",
      "0                            objektnr_intern\n",
      "1                            objektnr_extern\n",
      "2                                     aktion\n",
      "3                                  aktiv_von\n",
      "4                                  aktiv_bis\n",
      "5                              openimmo_obid\n",
      "6                           kennung_ursprung\n",
      "7                                  stand_vom\n",
      "8                        weitergabe_generell\n",
      "9                         weitergabe_positiv\n",
      "10                        weitergabe_negativ\n",
      "11                           gruppen_kennung\n",
      "12                                    master\n",
      "13                                   sprache\n",
      "14                  user_defined_simplefield\n",
      "15                     user_defined_anyfield\n",
      "16                       user_defined_extend\n"
     ]
    }
   ],
   "source": [
    "df = pd.DataFrame(xml_data['openimmo']['anbieter']['immobilie']['verwaltung_techn'].keys(), columns=['immobilie_child_element--verwaltung_techn'])\n",
    "print(df)"
   ]
  },
  {
   "cell_type": "markdown",
   "metadata": {},
   "source": [
    "## this field contains plaintext like objektart, etagenwohnung etc .............."
   ]
  },
  {
   "cell_type": "code",
   "execution_count": 57,
   "metadata": {},
   "outputs": [
    {
     "name": "stdout",
     "output_type": "stream",
     "text": [
      "  immobilie_child_element--user_defined_anyfield\n",
      "0                                      plaintext\n",
      "1                                           flag\n"
     ]
    }
   ],
   "source": [
    "df = pd.DataFrame(xml_data['openimmo']['anbieter']['immobilie']['user_defined_anyfield'].keys(), columns=['immobilie_child_element--user_defined_anyfield'])\n",
    "print(df)"
   ]
  },
  {
   "cell_type": "code",
   "execution_count": 59,
   "metadata": {},
   "outputs": [
    {
     "name": "stdout",
     "output_type": "stream",
     "text": [
      "       @fieldname                   @fieldvalue\n",
      "0       objektart                 Etagenwohnung\n",
      "1  auslandsregion                       Canillo\n",
      "2       headline2   Einfamilienhaus in Dortmund\n"
     ]
    }
   ],
   "source": [
    "df = pd.DataFrame(xml_data['openimmo']['anbieter']['immobilie']['user_defined_anyfield']['plaintext'])\n",
    "print(df)"
   ]
  },
  {
   "cell_type": "code",
   "execution_count": 60,
   "metadata": {},
   "outputs": [
    {
     "name": "stdout",
     "output_type": "stream",
     "text": [
      "  @fieldname @fieldvalue\n",
      "0     balkon        true\n",
      "1   terrasse       false\n"
     ]
    }
   ],
   "source": [
    "df = pd.DataFrame(xml_data['openimmo']['anbieter']['immobilie']['user_defined_anyfield']['flag'])\n",
    "print(df)"
   ]
  },
  {
   "cell_type": "code",
   "execution_count": null,
   "metadata": {},
   "outputs": [],
   "source": []
  }
 ],
 "metadata": {
  "kernelspec": {
   "display_name": "xmlenv",
   "language": "python",
   "name": "python3"
  },
  "language_info": {
   "codemirror_mode": {
    "name": "ipython",
    "version": 3
   },
   "file_extension": ".py",
   "mimetype": "text/x-python",
   "name": "python",
   "nbconvert_exporter": "python",
   "pygments_lexer": "ipython3",
   "version": "3.11.9"
  }
 },
 "nbformat": 4,
 "nbformat_minor": 2
}
